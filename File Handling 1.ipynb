{
 "cells": [
  {
   "cell_type": "code",
   "execution_count": null,
   "id": "c858d443",
   "metadata": {},
   "outputs": [],
   "source": [
    "#An exception in Python is an event that occurs during the execution of a program, disrupting the normal flow of the program's instructions. Exceptions can be errors or exceptional events that need special handling. Syntax errors, on the other hand, are errors in the code's structure that prevent it from being interpreted or executed."
   ]
  },
  {
   "cell_type": "code",
   "execution_count": null,
   "id": "9630f3e3",
   "metadata": {},
   "outputs": [],
   "source": [
    "#Q2\n",
    "def divide(a, b):\n",
    "    return a / b\n",
    "\n",
    "result = divide(5, 0) "
   ]
  },
  {
   "cell_type": "code",
   "execution_count": null,
   "id": "beb38f43",
   "metadata": {},
   "outputs": [],
   "source": [
    "#Q3\n",
    "try:\n",
    "    # Code that may raise an exception\n",
    "    result = 10 / 0\n",
    "except ZeroDivisionError:\n",
    "    # Handling a specific exception\n",
    "    print(\"Cannot divide by zero!\")\n",
    "except Exception as e:\n",
    "    # Handling other exceptions\n",
    "    print(f\"An error occurred: {e}\")\n",
    "else:\n",
    "    # Executed if no exception is raised\n",
    "    print(\"Division successful!\")\n",
    "finally:\n",
    "    # Always executed, whether an exception occurred or not\n",
    "    print(\"This block always runs.\")"
   ]
  },
  {
   "cell_type": "code",
   "execution_count": null,
   "id": "20e78f3f",
   "metadata": {},
   "outputs": [],
   "source": [
    "#Q4\n",
    "try:\n",
    "    num = int(input(\"Enter a number: \"))\n",
    "except ValueError:\n",
    "    print(\"Invalid input. Please enter a valid number.\")\n",
    "else:\n",
    "    print(f\"You entered: {num}\")"
   ]
  },
  {
   "cell_type": "code",
   "execution_count": null,
   "id": "97f0930e",
   "metadata": {},
   "outputs": [],
   "source": [
    "#Q4\n",
    "try:\n",
    "    file = open(\"example.txt\", \"r\")\n",
    "    # Code to read from the file\n",
    "finally:\n",
    "    file.close()  # This block ensures the file is always closed, even if an exception occurs."
   ]
  },
  {
   "cell_type": "code",
   "execution_count": null,
   "id": "a0ea9104",
   "metadata": {},
   "outputs": [],
   "source": [
    "#Q5\n",
    "class CustomError(Exception):\n",
    "    def _init_(self, message):\n",
    "        super()._init_(message)\n",
    "\n",
    "def process_data(data):\n",
    "    if not data:\n",
    "        raise CustomError(\"Data cannot be empty.\")\n",
    "    # Process data here\n",
    "\n",
    "try:\n",
    "    process_data(\"\")\n",
    "except CustomError as ce:\n",
    "    print(f\"Custom Error: {ce}\")"
   ]
  },
  {
   "cell_type": "code",
   "execution_count": null,
   "id": "624f0b4e",
   "metadata": {},
   "outputs": [],
   "source": [
    "#Q6\n",
    "class CustomError(Exception):\n",
    "    def _init_(self, message):\n",
    "        super()._init_(message)\n",
    "\n",
    "def example_function(value):\n",
    "    if value < 0:\n",
    "        raise CustomError(\"Value cannot be negative.\")\n",
    "    return f\"Value is {value}.\"\n",
    "\n",
    "try:\n",
    "    result = example_function(-5)\n",
    "except CustomError as ce:\n",
    "    print(f\"Custom Error: {ce}\")"
   ]
  },
  {
   "cell_type": "code",
   "execution_count": null,
   "id": "711ac7c6",
   "metadata": {},
   "outputs": [],
   "source": []
  }
 ],
 "metadata": {
  "kernelspec": {
   "display_name": "Python 3 (ipykernel)",
   "language": "python",
   "name": "python3"
  },
  "language_info": {
   "codemirror_mode": {
    "name": "ipython",
    "version": 3
   },
   "file_extension": ".py",
   "mimetype": "text/x-python",
   "name": "python",
   "nbconvert_exporter": "python",
   "pygments_lexer": "ipython3",
   "version": "3.11.5"
  }
 },
 "nbformat": 4,
 "nbformat_minor": 5
}
