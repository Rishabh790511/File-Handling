{
 "cells": [
  {
   "cell_type": "code",
   "execution_count": null,
   "id": "534805fd",
   "metadata": {},
   "outputs": [],
   "source": [
    "#Multiprocessing in Python refers to the ability to create and run multiple processes concurrently. In simple terms, it allows the execution of multiple independent tasks or processes simultaneously, taking advantage of multiple CPU cores.\n",
    "\n",
    "Multiprocessing is useful in Python for parallelizing tasks, especially those that are CPU-bound. It enables programs to perform tasks concurrently, potentially improving performance and efficiency by utilizing the available CPU resources effectively."
   ]
  },
  {
   "cell_type": "code",
   "execution_count": null,
   "id": "2f885f5f",
   "metadata": {},
   "outputs": [],
   "source": [
    "#Q2\n",
    "Multiprocessing:\n",
    "\n",
    "Involves the creation of multiple independent processes.\n",
    "Each process has its own memory space.\n",
    "Communication between processes is typically done using inter-process communication (IPC).\n",
    "Suitable for CPU-bound tasks.\n",
    "Multithreading:\n",
    "\n",
    "Involves the creation of multiple threads within a single process.\n",
    "Threads within a process share the same memory space.\n",
    "Communication between threads is easier but must be done carefully to avoid race conditions.\n",
    "Suitable for I/O-bound tasks."
   ]
  },
  {
   "cell_type": "code",
   "execution_count": null,
   "id": "00b61f67",
   "metadata": {},
   "outputs": [],
   "source": [
    "#Q3\n",
    "import multiprocessing\n",
    "\n",
    "def worker_function():\n",
    "    print(\"Worker process\")\n",
    "\n",
    "if __name__ == \"__main__\":\n",
    "    # Create a process\n",
    "    my_process = multiprocessing.Process(target=worker_function)\n",
    "\n",
    "    # Start the process\n",
    "    my_process.start()\n",
    "\n",
    "    # Wait for the process to finish\n",
    "    my_process.join()\n",
    "\n",
    "    print(\"Main process\")\n"
   ]
  },
  {
   "cell_type": "code",
   "execution_count": null,
   "id": "5e8f6013",
   "metadata": {},
   "outputs": [],
   "source": [
    "#Q4\n",
    "A multiprocessing pool in Python, provided by the multiprocessing module, is a way to parallelize\n",
    "the execution of a function across multiple input values. It creates a pool of worker processes, and tasks are distributed among these processes. This is particularly useful for parallelizing tasks that can be divided into independent subtasks, \n",
    "such as processing elements of a large dataset concurrently."
   ]
  },
  {
   "cell_type": "code",
   "execution_count": null,
   "id": "95b49a42",
   "metadata": {},
   "outputs": [],
   "source": [
    "#Q5\n",
    "import multiprocessing\n",
    "\n",
    "def worker_function(x):\n",
    "    return x*x\n",
    "\n",
    "if __name__ == \"__main__\":\n",
    "    # Create a pool with 3 worker processes\n",
    "    with multiprocessing.Pool(processes=3) as pool:\n",
    "        # Map the function to a list of input values\n",
    "        result = pool.map(worker_function, [1, 2, 3, 4, 5])\n",
    "\n",
    "    print(\"Result:\", result)\n",
    "\n"
   ]
  },
  {
   "cell_type": "code",
   "execution_count": null,
   "id": "5b1d2240",
   "metadata": {},
   "outputs": [],
   "source": [
    "#Q6\n",
    "import multiprocessing\n",
    "\n",
    "def print_number(number):\n",
    "    print(f\"Process {number}: {number}\")\n",
    "\n",
    "if __name__ == \"__main__\":\n",
    "    processes = []\n",
    "\n",
    "    # Create and start 4 processes\n",
    "    for i in range(1, 5):\n",
    "        process = multiprocessing.Process(target=print_number, args=(i,))\n",
    "        processes.append(process)\n",
    "        process.start()\n",
    "\n",
    "    # Wait for all processes to finish\n",
    "    for process in processes:\n",
    "        process.join()\n",
    "\n",
    "    print(\"Main process\")\n"
   ]
  },
  {
   "cell_type": "code",
   "execution_count": null,
   "id": "05b996d2",
   "metadata": {},
   "outputs": [],
   "source": []
  },
  {
   "cell_type": "code",
   "execution_count": null,
   "id": "60a127cd",
   "metadata": {},
   "outputs": [],
   "source": []
  },
  {
   "cell_type": "code",
   "execution_count": null,
   "id": "7a7626ba",
   "metadata": {},
   "outputs": [],
   "source": []
  },
  {
   "cell_type": "code",
   "execution_count": null,
   "id": "61ce99a7",
   "metadata": {},
   "outputs": [],
   "source": []
  },
  {
   "cell_type": "code",
   "execution_count": null,
   "id": "0d88442a",
   "metadata": {},
   "outputs": [],
   "source": []
  },
  {
   "cell_type": "code",
   "execution_count": null,
   "id": "a4439b89",
   "metadata": {},
   "outputs": [],
   "source": []
  },
  {
   "cell_type": "code",
   "execution_count": null,
   "id": "7d0aeba0",
   "metadata": {},
   "outputs": [],
   "source": []
  },
  {
   "cell_type": "code",
   "execution_count": null,
   "id": "bd0f783f",
   "metadata": {},
   "outputs": [],
   "source": []
  },
  {
   "cell_type": "code",
   "execution_count": null,
   "id": "c4f9816b",
   "metadata": {},
   "outputs": [],
   "source": []
  },
  {
   "cell_type": "code",
   "execution_count": null,
   "id": "cc26ee87",
   "metadata": {},
   "outputs": [],
   "source": []
  },
  {
   "cell_type": "code",
   "execution_count": null,
   "id": "e4d6e627",
   "metadata": {},
   "outputs": [],
   "source": []
  },
  {
   "cell_type": "code",
   "execution_count": null,
   "id": "3d9afb8c",
   "metadata": {},
   "outputs": [],
   "source": []
  },
  {
   "cell_type": "code",
   "execution_count": null,
   "id": "7abefa33",
   "metadata": {},
   "outputs": [],
   "source": []
  },
  {
   "cell_type": "code",
   "execution_count": null,
   "id": "311c43c0",
   "metadata": {},
   "outputs": [],
   "source": []
  },
  {
   "cell_type": "code",
   "execution_count": null,
   "id": "e6aa7e40",
   "metadata": {},
   "outputs": [],
   "source": []
  }
 ],
 "metadata": {
  "kernelspec": {
   "display_name": "Python 3 (ipykernel)",
   "language": "python",
   "name": "python3"
  },
  "language_info": {
   "codemirror_mode": {
    "name": "ipython",
    "version": 3
   },
   "file_extension": ".py",
   "mimetype": "text/x-python",
   "name": "python",
   "nbconvert_exporter": "python",
   "pygments_lexer": "ipython3",
   "version": "3.11.5"
  }
 },
 "nbformat": 4,
 "nbformat_minor": 5
}
